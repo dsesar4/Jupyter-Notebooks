{
 "cells": [
  {
   "cell_type": "markdown",
   "metadata": {},
   "source": [
    "# Yearly overview: 2020.\n",
    "\n",
    "Interactive analysis of work days in a year that was mostly marked by Coronavirus and some new work habits."
   ]
  },
  {
   "cell_type": "code",
   "execution_count": 37,
   "metadata": {},
   "outputs": [],
   "source": [
    "import matplotlib.pyplot as plt\n",
    "import calmap\n",
    "import pandas as pd\n",
    "from ipywidgets import interactive\n",
    "\n",
    "\n",
    "df = pd.read_excel(\"2020.xlsx\")\n",
    "df['Date'] = pd.to_datetime(df['Date'])\n",
    "df.set_index('Date', inplace=True)"
   ]
  },
  {
   "cell_type": "markdown",
   "metadata": {},
   "source": [
    "To simplify plotting and data wrangling, numbers are used as codes for each day in a year:\n",
    "\n",
    "**Code** | **Explanation**\n",
    "--- | ---\n",
    "**1** | Work in firm\n",
    "**2** | Work from home\n",
    "**3** | Weekend\n",
    "**4** | Vacation\n",
    "**5** | Holiday"
   ]
  },
  {
   "cell_type": "code",
   "execution_count": 38,
   "metadata": {},
   "outputs": [
    {
     "data": {
      "text/html": [
       "<div>\n",
       "<style scoped>\n",
       "    .dataframe tbody tr th:only-of-type {\n",
       "        vertical-align: middle;\n",
       "    }\n",
       "\n",
       "    .dataframe tbody tr th {\n",
       "        vertical-align: top;\n",
       "    }\n",
       "\n",
       "    .dataframe thead th {\n",
       "        text-align: right;\n",
       "    }\n",
       "</style>\n",
       "<table border=\"1\" class=\"dataframe\">\n",
       "  <thead>\n",
       "    <tr style=\"text-align: right;\">\n",
       "      <th></th>\n",
       "      <th>Work</th>\n",
       "      <th>Work in firm</th>\n",
       "      <th>Work from home</th>\n",
       "      <th>Weekend</th>\n",
       "      <th>Vacation</th>\n",
       "      <th>Holiday</th>\n",
       "    </tr>\n",
       "    <tr>\n",
       "      <th>Date</th>\n",
       "      <th></th>\n",
       "      <th></th>\n",
       "      <th></th>\n",
       "      <th></th>\n",
       "      <th></th>\n",
       "      <th></th>\n",
       "    </tr>\n",
       "  </thead>\n",
       "  <tbody>\n",
       "    <tr>\n",
       "      <th>2020-01-01</th>\n",
       "      <td>5</td>\n",
       "      <td>0</td>\n",
       "      <td>0</td>\n",
       "      <td>0</td>\n",
       "      <td>0</td>\n",
       "      <td>1</td>\n",
       "    </tr>\n",
       "    <tr>\n",
       "      <th>2020-01-02</th>\n",
       "      <td>1</td>\n",
       "      <td>1</td>\n",
       "      <td>0</td>\n",
       "      <td>0</td>\n",
       "      <td>0</td>\n",
       "      <td>1</td>\n",
       "    </tr>\n",
       "    <tr>\n",
       "      <th>2020-01-03</th>\n",
       "      <td>1</td>\n",
       "      <td>2</td>\n",
       "      <td>0</td>\n",
       "      <td>0</td>\n",
       "      <td>0</td>\n",
       "      <td>1</td>\n",
       "    </tr>\n",
       "    <tr>\n",
       "      <th>2020-01-04</th>\n",
       "      <td>3</td>\n",
       "      <td>2</td>\n",
       "      <td>0</td>\n",
       "      <td>1</td>\n",
       "      <td>0</td>\n",
       "      <td>1</td>\n",
       "    </tr>\n",
       "    <tr>\n",
       "      <th>2020-01-05</th>\n",
       "      <td>3</td>\n",
       "      <td>2</td>\n",
       "      <td>0</td>\n",
       "      <td>2</td>\n",
       "      <td>0</td>\n",
       "      <td>1</td>\n",
       "    </tr>\n",
       "  </tbody>\n",
       "</table>\n",
       "</div>"
      ],
      "text/plain": [
       "            Work  Work in firm  Work from home  Weekend  Vacation  Holiday\n",
       "Date                                                                      \n",
       "2020-01-01     5             0               0        0         0        1\n",
       "2020-01-02     1             1               0        0         0        1\n",
       "2020-01-03     1             2               0        0         0        1\n",
       "2020-01-04     3             2               0        1         0        1\n",
       "2020-01-05     3             2               0        2         0        1"
      ]
     },
     "execution_count": 38,
     "metadata": {},
     "output_type": "execute_result"
    }
   ],
   "source": [
    "df['Work in firm'] = (df['Work']==1).cumsum()\n",
    "df['Work from home'] = (df['Work']==2).cumsum()\n",
    "df['Weekend'] = (df['Work']==3).cumsum()\n",
    "df['Vacation'] = (df['Work']==4).cumsum()\n",
    "df['Holiday'] = (df['Work']==5).cumsum()\n",
    "\n",
    "df.head()"
   ]
  },
  {
   "cell_type": "code",
   "execution_count": 39,
   "metadata": {},
   "outputs": [
    {
     "data": {
      "application/vnd.jupyter.widget-view+json": {
       "model_id": "1aa996c5f9c9483ebe1ec9d044b9349a",
       "version_major": 2,
       "version_minor": 0
      },
      "text/plain": [
       "interactive(children=(IntSlider(value=183, description='Day', max=366, min=1), Output()), _dom_classes=('widge…"
      ]
     },
     "metadata": {},
     "output_type": "display_data"
    }
   ],
   "source": [
    "def draw_bar(Day):\n",
    "    plt.figure(figsize=(12,6), dpi= 80)\n",
    "    df[['Work in firm','Work from home','Weekend','Vacation','Holiday']].iloc[Day-1].plot(kind='bar')\n",
    "\n",
    "interactive_graph = interactive(draw_bar,Day=(1,366))\n",
    "output1 = interactive_graph.children[-1]\n",
    "\n",
    "interactive_graph"
   ]
  },
  {
   "cell_type": "code",
   "execution_count": 40,
   "metadata": {},
   "outputs": [
    {
     "data": {
      "application/vnd.jupyter.widget-view+json": {
       "model_id": "46e000ed226b4e4d8befe946ce783c25",
       "version_major": 2,
       "version_minor": 0
      },
      "text/plain": [
       "interactive(children=(IntSlider(value=183, description='Day', max=366, min=1), Output()), _dom_classes=('widge…"
      ]
     },
     "metadata": {},
     "output_type": "display_data"
    }
   ],
   "source": [
    "\n",
    "def draw_calmap(Day):\n",
    "    plt.figure(figsize=(16,10), dpi= 80)\n",
    "    calmap.yearplot(df['Work'].iloc[0:Day],cmap='Accent')\n",
    "\n",
    "interactive_calmap = interactive(draw_calmap,Day=(1,366))\n",
    "output2 = interactive_calmap.children[-1]\n",
    "\n",
    "interactive_calmap"
   ]
  },
  {
   "cell_type": "markdown",
   "metadata": {},
   "source": [
    "Even though lot of people spent big part of the year working from home, that wasn't the case for me. There was only one period when I worked remotely for more than couple of days - it was the first part of spring lockdown (March and April). Most of the other days spent working from home were caused by other things, ex. when getting new passport or having repairman.\n",
    "\n",
    "There wasn't much rest but it was spent nicely anyways.\n",
    "\n",
    "Looking forward to the next year when this chart should be much more colored because travel enters the picture."
   ]
  }
 ],
 "metadata": {
  "kernelspec": {
   "display_name": "Python 3",
   "language": "python",
   "name": "python3"
  },
  "language_info": {
   "codemirror_mode": {
    "name": "ipython",
    "version": 3
   },
   "file_extension": ".py",
   "mimetype": "text/x-python",
   "name": "python",
   "nbconvert_exporter": "python",
   "pygments_lexer": "ipython3",
   "version": "3.7.7"
  }
 },
 "nbformat": 4,
 "nbformat_minor": 4
}
